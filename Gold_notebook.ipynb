{
 "cells": [
  {
   "cell_type": "code",
   "execution_count": 0,
   "metadata": {
    "application/vnd.databricks.v1+cell": {
     "cellMetadata": {
      "byteLimit": 2048000,
      "rowLimit": 10000
     },
     "inputWidgets": {},
     "nuid": "cf44a640-a40c-4f94-9f86-ad9bc2041518",
     "showTitle": false,
     "tableResultSettingsMap": {},
     "title": ""
    }
   },
   "outputs": [],
   "source": [
    "df = spark.table(\"vsqproject.silver.products_silver\")"
   ]
  },
  {
   "cell_type": "code",
   "execution_count": 0,
   "metadata": {
    "application/vnd.databricks.v1+cell": {
     "cellMetadata": {
      "byteLimit": 2048000,
      "rowLimit": 10000
     },
     "inputWidgets": {},
     "nuid": "11cdafb3-5121-4d15-9546-ddbd1c75b90a",
     "showTitle": false,
     "tableResultSettingsMap": {},
     "title": ""
    }
   },
   "outputs": [],
   "source": [
    "from pyspark.sql.functions import col, avg, count, max\n",
    "\n",
    "# Total number of products\n",
    "total_products = df.select(count(\"*\").alias(\"total_products\"))\n",
    "total_products.show()\n",
    "\n",
    "# Average price per category\n",
    "avg_price_per_category = df.groupBy(\"category\").agg(avg(\"price\").alias(\"avg_price\"))\n",
    "avg_price_per_category.show()\n",
    "\n",
    "# Product count per brand\n",
    "product_count_per_brand = df.groupBy(\"brand\").agg(count(\"*\").alias(\"product_count\"))\n",
    "product_count_per_brand.show()\n",
    "\n",
    "# Highest price product per category\n",
    "products_with_highest_price = df.groupBy(\"category\").agg(max(\"price\").alias(\"max_price\"))\n",
    "products_with_highest_price.show()"
   ]
  }
 ],
 "metadata": {
  "application/vnd.databricks.v1+notebook": {
   "computePreferences": null,
   "dashboards": [],
   "environmentMetadata": {
    "base_environment": "",
    "environment_version": "2"
   },
   "inputWidgetPreferences": null,
   "language": "python",
   "notebookMetadata": {
    "pythonIndentUnit": 4
   },
   "notebookName": "Gold_notebook",
   "widgets": {}
  },
  "language_info": {
   "name": "python"
  }
 },
 "nbformat": 4,
 "nbformat_minor": 0
}
