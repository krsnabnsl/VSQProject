{
 "cells": [
  {
   "cell_type": "code",
   "execution_count": 0,
   "metadata": {
    "application/vnd.databricks.v1+cell": {
     "cellMetadata": {
      "byteLimit": 2048000,
      "rowLimit": 10000
     },
     "inputWidgets": {},
     "nuid": "d9c30cf2-783f-40e1-bdb9-60729310e4a7",
     "showTitle": false,
     "tableResultSettingsMap": {},
     "title": ""
    }
   },
   "outputs": [],
   "source": [
    "from pyspark.sql import functions as F"
   ]
  },
  {
   "cell_type": "code",
   "execution_count": 0,
   "metadata": {
    "application/vnd.databricks.v1+cell": {
     "cellMetadata": {
      "byteLimit": 2048000,
      "rowLimit": 10000
     },
     "inputWidgets": {},
     "nuid": "c911d2fd-1312-4f4b-afa8-0bb3e21c6c28",
     "showTitle": false,
     "tableResultSettingsMap": {},
     "title": ""
    }
   },
   "outputs": [],
   "source": [
    "# Read bronze customers\n",
    "bronze_customers = spark.table(\"vsqproject.bronze.raw_customers\")\n",
    "# display(bronze_customers)"
   ]
  },
  {
   "cell_type": "code",
   "execution_count": 0,
   "metadata": {
    "application/vnd.databricks.v1+cell": {
     "cellMetadata": {
      "byteLimit": 2048000,
      "rowLimit": 10000
     },
     "inputWidgets": {},
     "nuid": "75587cfb-ee5f-4d06-bf3e-7c0f72205715",
     "showTitle": false,
     "tableResultSettingsMap": {},
     "title": ""
    }
   },
   "outputs": [],
   "source": [
    "# Transform / clean (columns: customerid, firstname, lastname, gender, dob, city, state)\n",
    "silver_customers = (\n",
    "    bronze_customers\n",
    "      .filter(F.col(\"customerid\").isNotNull())             # required key\n",
    "      .dropDuplicates([\"customerid\"])\n",
    "      .withColumnRenamed(\"customerid\", \"customer_id\")      # rename to match sales FK\n",
    "      .withColumn(\"firstname\", F.initcap(F.trim(F.col(\"firstname\"))))\n",
    "      .withColumn(\"lastname\", F.initcap(F.trim(F.col(\"lastname\"))))\n",
    "      .withColumn(\"gender\", F.when(F.col(\"gender\").isNull(), F.lit(\"Unknown\")).otherwise(F.trim(F.col(\"gender\"))))\n",
    "      .withColumn(\"city\", F.initcap(F.trim(F.col(\"city\"))))\n",
    "      .withColumn(\"state\", F.upper(F.trim(F.col(\"state\"))))\n",
    "      .withColumn(\"dob\", F.to_date(F.col(\"dob\"), \"MM/dd/yyyy\"))\n",
    "      # dob is already DATE in your schema — keep as-is (or cast if needed)\n",
    ")"
   ]
  },
  {
   "cell_type": "code",
   "execution_count": 0,
   "metadata": {
    "application/vnd.databricks.v1+cell": {
     "cellMetadata": {
      "byteLimit": 2048000,
      "rowLimit": 10000
     },
     "inputWidgets": {},
     "nuid": "1b179984-d311-4f44-9566-37edbd1b617f",
     "showTitle": false,
     "tableResultSettingsMap": {
      "0": {
       "dataGridStateBlob": "{\"version\":1,\"tableState\":{\"columnPinning\":{\"left\":[\"#row_number#\"],\"right\":[]},\"columnSizing\":{},\"columnVisibility\":{}},\"settings\":{\"columns\":{}},\"syncTimestamp\":1755414953125}",
       "filterBlob": null,
       "queryPlanFiltersBlob": null,
       "tableResultIndex": 0
      }
     },
     "title": ""
    }
   },
   "outputs": [],
   "source": [
    "# display(silver_customers)"
   ]
  },
  {
   "cell_type": "code",
   "execution_count": 0,
   "metadata": {
    "application/vnd.databricks.v1+cell": {
     "cellMetadata": {
      "byteLimit": 2048000,
      "rowLimit": 10000
     },
     "inputWidgets": {},
     "nuid": "fec01a18-e3fd-45d4-bb33-6e1625bab2b0",
     "showTitle": false,
     "tableResultSettingsMap": {},
     "title": ""
    }
   },
   "outputs": [],
   "source": [
    "# Save to Silver\n",
    "silver_customers.write.format(\"delta\") \\\n",
    "    .option(\"mergeSchema\", \"true\") \\\n",
    "    .mode(\"overwrite\") \\\n",
    "    .saveAsTable(\"vsqproject.silver.customers_silver\")"
   ]
  }
 ],
 "metadata": {
  "application/vnd.databricks.v1+notebook": {
   "computePreferences": {
    "hardware": {
     "accelerator": null,
     "gpuPoolId": null,
     "memory": null
    }
   },
   "dashboards": [],
   "environmentMetadata": {
    "base_environment": "",
    "environment_version": "2"
   },
   "inputWidgetPreferences": null,
   "language": "python",
   "notebookMetadata": {
    "mostRecentlyExecutedCommandWithImplicitDF": {
     "commandId": 5554457435244256,
     "dataframes": [
      "_sqldf"
     ]
    },
    "pythonIndentUnit": 4
   },
   "notebookName": "silver_customers",
   "widgets": {}
  },
  "language_info": {
   "name": "python"
  }
 },
 "nbformat": 4,
 "nbformat_minor": 0
}
