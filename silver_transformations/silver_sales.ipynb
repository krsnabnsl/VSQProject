{
 "cells": [
  {
   "cell_type": "code",
   "execution_count": 0,
   "metadata": {
    "application/vnd.databricks.v1+cell": {
     "cellMetadata": {
      "byteLimit": 2048000,
      "rowLimit": 10000
     },
     "inputWidgets": {},
     "nuid": "deb539df-f4d7-42a4-a984-d1a35a902368",
     "showTitle": false,
     "tableResultSettingsMap": {},
     "title": ""
    }
   },
   "outputs": [],
   "source": [
    "from pyspark.sql import functions as F"
   ]
  },
  {
   "cell_type": "code",
   "execution_count": 0,
   "metadata": {
    "application/vnd.databricks.v1+cell": {
     "cellMetadata": {
      "byteLimit": 2048000,
      "rowLimit": 10000
     },
     "inputWidgets": {},
     "nuid": "f16a1c94-7bb2-4545-9d8a-4a9515afd8f3",
     "showTitle": false,
     "tableResultSettingsMap": {},
     "title": ""
    }
   },
   "outputs": [],
   "source": [
    "# Read bronze sales\n",
    "bronze_sales = spark.table(\"vsqproject.bronze.raw_sales\")"
   ]
  },
  {
   "cell_type": "code",
   "execution_count": 0,
   "metadata": {
    "application/vnd.databricks.v1+cell": {
     "cellMetadata": {
      "byteLimit": 2048000,
      "rowLimit": 10000
     },
     "inputWidgets": {},
     "nuid": "17698ed8-9958-46f3-86a8-42dc2c290803",
     "showTitle": false,
     "tableResultSettingsMap": {},
     "title": ""
    }
   },
   "outputs": [],
   "source": [
    "display(bronze_sales)"
   ]
  },
  {
   "cell_type": "code",
   "execution_count": 0,
   "metadata": {
    "application/vnd.databricks.v1+cell": {
     "cellMetadata": {
      "byteLimit": 2048000,
      "rowLimit": 10000
     },
     "inputWidgets": {},
     "nuid": "2eb49ae5-b7a7-4447-b227-ed1d84fda265",
     "showTitle": false,
     "tableResultSettingsMap": {},
     "title": ""
    }
   },
   "outputs": [],
   "source": [
    "# parse timestamp robustly (try multiple common formats), cast numbers, drop invalids\n",
    "silver_sales = (\n",
    "    bronze_sales\n",
    "      .filter(F.col(\"sale_id\").isNotNull())\n",
    "      .dropDuplicates([\"sale_id\"])\n",
    "      # cast numeric fields safely\n",
    "      .withColumn(\"quantity\", F.col(\"quantity\").cast(\"int\"))\n",
    "      .withColumn(\"price\", F.col(\"price\").cast(\"double\"))\n",
    "      # parse timestamp into timestamp/date (try a few patterns)\n",
    "      .withColumn(\"transactiondatetime\", F.coalesce(\n",
    "          F.to_timestamp(F.col(\"transactiondatetime\"), \"yyyy-MM-dd HH:mm:ss\"),\n",
    "          F.to_timestamp(F.col(\"transactiondatetime\"), \"MM/dd/yyyy HH:mm:ss\"),\n",
    "          F.to_timestamp(F.col(\"transactiondatetime\"), \"MM/dd/yyyy\"),\n",
    "          F.to_timestamp(F.col(\"transactiondatetime\"), \"yyyy-MM-dd\"),\n",
    "          F.try_to_timestamp(\"transactiondatetime\")  # fallback safe parser\n",
    "      ))\n",
    "      .withColumn(\"sale_date\", F.to_date(F.col(\"transactiondatetime\")))\n",
    "      # remove invalid records\n",
    "      .filter(\n",
    "          (F.col(\"product_id\").isNotNull()) &\n",
    "          (F.col(\"customer_id\").isNotNull()) &\n",
    "          (F.col(\"store_id\").isNotNull()) &\n",
    "          (F.col(\"quantity\").isNotNull()) & (F.col(\"quantity\") > 0) &\n",
    "          (F.col(\"price\").isNotNull()) & (F.col(\"price\") > 0) &\n",
    "          (F.col(\"transactiondatetime\").isNotNull())\n",
    "      )\n",
    "      # compute derived metric using available columns only\n",
    "      .withColumn(\"sale_amount\", F.col(\"quantity\") * F.col(\"price\"))\n",
    ")"
   ]
  },
  {
   "cell_type": "code",
   "execution_count": 0,
   "metadata": {
    "application/vnd.databricks.v1+cell": {
     "cellMetadata": {
      "byteLimit": 2048000,
      "rowLimit": 10000
     },
     "inputWidgets": {},
     "nuid": "9ec3ff82-c044-4a53-9e89-5feac5821322",
     "showTitle": false,
     "tableResultSettingsMap": {
      "0": {
       "dataGridStateBlob": "{\"version\":1,\"tableState\":{\"columnPinning\":{\"left\":[\"#row_number#\"],\"right\":[]},\"columnSizing\":{},\"columnVisibility\":{}},\"settings\":{\"columns\":{}},\"syncTimestamp\":1755417579996}",
       "filterBlob": null,
       "queryPlanFiltersBlob": null,
       "tableResultIndex": 0
      }
     },
     "title": ""
    }
   },
   "outputs": [],
   "source": [
    "display(silver_sales)"
   ]
  },
  {
   "cell_type": "code",
   "execution_count": 0,
   "metadata": {
    "application/vnd.databricks.v1+cell": {
     "cellMetadata": {
      "byteLimit": 2048000,
      "rowLimit": 10000
     },
     "inputWidgets": {},
     "nuid": "7339bd35-2334-426b-bbc4-b2a32cfefb7a",
     "showTitle": false,
     "tableResultSettingsMap": {},
     "title": ""
    }
   },
   "outputs": [],
   "source": [
    "# enforce referential integrity (keep only sales where FK exists in Silver dims)\n",
    "# load silver dims (they must exist before this step)\n",
    "products_df = spark.table(\"vsqproject.silver.products_silver\").select(\"product_id\")\n",
    "customers_df = spark.table(\"vsqproject.silver.customers_silver\").select(\"customer_id\")\n",
    "stores_df   = spark.table(\"vsqproject.silver.stores\").select(\"store_id\")\n",
    "\n",
    "silver_sales_integrity = (\n",
    "    silver_sales\n",
    "      .join(customers_df, \"customer_id\", \"inner\")\n",
    "      .join(stores_df, \"store_id\", \"inner\")\n",
    ")"
   ]
  },
  {
   "cell_type": "code",
   "execution_count": 0,
   "metadata": {
    "application/vnd.databricks.v1+cell": {
     "cellMetadata": {
      "byteLimit": 2048000,
      "rowLimit": 10000
     },
     "inputWidgets": {},
     "nuid": "7c06adf7-49e6-476a-8d66-755e2e604158",
     "showTitle": false,
     "tableResultSettingsMap": {},
     "title": ""
    }
   },
   "outputs": [],
   "source": [
    "display(silver_sales_integrity)"
   ]
  },
  {
   "cell_type": "code",
   "execution_count": 0,
   "metadata": {
    "application/vnd.databricks.v1+cell": {
     "cellMetadata": {
      "byteLimit": 2048000,
      "rowLimit": 10000
     },
     "inputWidgets": {},
     "nuid": "5733001d-91ff-4cc1-b208-bf2047e4dd24",
     "showTitle": false,
     "tableResultSettingsMap": {},
     "title": ""
    }
   },
   "outputs": [],
   "source": [
    "# Save to Silver fact (partition by sale_date for faster queries)\n",
    "silver_sales_integrity.write.format(\"delta\") \\\n",
    "    .option(\"mergeSchema\", \"true\") \\\n",
    "    .mode(\"overwrite\") \\\n",
    "    .partitionBy(\"sale_date\") \\\n",
    "    .saveAsTable(\"vsqproject.silver.silver_sales\")"
   ]
  }
 ],
 "metadata": {
  "application/vnd.databricks.v1+notebook": {
   "computePreferences": null,
   "dashboards": [],
   "environmentMetadata": {
    "base_environment": "",
    "environment_version": "2"
   },
   "inputWidgetPreferences": null,
   "language": "python",
   "notebookMetadata": {
    "mostRecentlyExecutedCommandWithImplicitDF": {
     "commandId": 5554457435244278,
     "dataframes": [
      "_sqldf"
     ]
    },
    "pythonIndentUnit": 4
   },
   "notebookName": "silver_sales",
   "widgets": {}
  },
  "language_info": {
   "name": "python"
  }
 },
 "nbformat": 4,
 "nbformat_minor": 0
}
