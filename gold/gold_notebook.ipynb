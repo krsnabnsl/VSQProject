{
 "cells": [
  {
   "cell_type": "markdown",
   "metadata": {
    "application/vnd.databricks.v1+cell": {
     "cellMetadata": {},
     "inputWidgets": {},
     "nuid": "eb11a183-960c-4597-ac03-d2ad52b2e91f",
     "showTitle": false,
     "tableResultSettingsMap": {},
     "title": ""
    }
   },
   "source": [
    "**Sales Fact**"
   ]
  },
  {
   "cell_type": "code",
   "execution_count": 0,
   "metadata": {
    "application/vnd.databricks.v1+cell": {
     "cellMetadata": {
      "byteLimit": 2048000,
      "implicitDf": true,
      "rowLimit": 10000
     },
     "inputWidgets": {},
     "nuid": "9e2eabc6-d2ca-41ac-83de-ce51a55bec89",
     "showTitle": false,
     "tableResultSettingsMap": {},
     "title": ""
    }
   },
   "outputs": [],
   "source": [
    "%sql\n",
    "INSERT OVERWRITE vsqproject.gold.fact_sales\n",
    "SELECT\n",
    "  CAST(date_format(s.sale_date, 'yyyyMMdd') AS INT) AS DateKey,\n",
    "  s.product_id AS ProductKey,\n",
    "  s.customer_id AS CustomerKey,\n",
    "  s.store_id AS StoreKey,\n",
    "  s.quantity AS Quantity,\n",
    "  s.sale_amount AS NetSales,\n",
    "  0.0 AS DiscountAmount,\n",
    "  (s.sale_amount - (p.price * 0.7 * s.quantity)) AS Profit\n",
    "FROM vsqproject.silver.silver_sales s\n",
    "JOIN vsqproject.silver.products_silver p ON s.product_id = p.product_id;"
   ]
  },
  {
   "cell_type": "markdown",
   "metadata": {
    "application/vnd.databricks.v1+cell": {
     "cellMetadata": {},
     "inputWidgets": {},
     "nuid": "5285188f-f7ff-4cde-abbf-a8f0c626d659",
     "showTitle": false,
     "tableResultSettingsMap": {},
     "title": ""
    }
   },
   "source": [
    "**Product Dimension**"
   ]
  },
  {
   "cell_type": "code",
   "execution_count": 0,
   "metadata": {
    "application/vnd.databricks.v1+cell": {
     "cellMetadata": {},
     "inputWidgets": {},
     "nuid": "2df893a4-b44a-499a-811f-15801188f34b",
     "showTitle": false,
     "tableResultSettingsMap": {},
     "title": ""
    }
   },
   "outputs": [],
   "source": [
    "%sql\n",
    "-- Step 1: Create a staging view with transformed attributes\n",
    "CREATE OR REPLACE TEMP VIEW product_stage AS\n",
    "SELECT DISTINCT \n",
    "  product_id AS ProductKey,\n",
    "  productname AS ProductName,\n",
    "  category AS Category,\n",
    "  brand AS Brand,\n",
    "  price AS UnitPrice\n",
    "FROM vsqproject.silver.products_silver;"
   ]
  },
  {
   "cell_type": "code",
   "execution_count": 0,
   "metadata": {
    "application/vnd.databricks.v1+cell": {
     "cellMetadata": {},
     "inputWidgets": {},
     "nuid": "ef429849-02bb-4739-a523-8b7190b64389",
     "showTitle": false,
     "tableResultSettingsMap": {},
     "title": ""
    }
   },
   "outputs": [],
   "source": [
    "%sql\n",
    "--Step 2: Updating the records that have updates\n",
    "MERGE INTO vsqproject.gold.dim_product AS tgt\n",
    "USING product_stage AS src\n",
    "ON tgt.ProductKey = src.ProductKey AND tgt.IsCurrent = 1\n",
    "\n",
    "--  Expire old record if something changed\n",
    "WHEN MATCHED AND (\n",
    "    tgt.ProductName <> src.ProductName OR\n",
    "    tgt.Category    <> src.Category OR\n",
    "    tgt.Brand       <> src.Brand OR\n",
    "    tgt.UnitPrice   <> src.UnitPrice\n",
    ") THEN UPDATE SET \n",
    "    tgt.EndDate   = current_date() - INTERVAL 1 DAY,\n",
    "    tgt.IsCurrent = 0;"
   ]
  },
  {
   "cell_type": "code",
   "execution_count": 0,
   "metadata": {
    "application/vnd.databricks.v1+cell": {
     "cellMetadata": {},
     "inputWidgets": {},
     "nuid": "80ac0400-8d22-4eee-beec-1996039dcf1f",
     "showTitle": false,
     "tableResultSettingsMap": {},
     "title": ""
    }
   },
   "outputs": [],
   "source": [
    "%sql\n",
    "--Step 3: Inserting the new records and updated records\n",
    "MERGE INTO vsqproject.gold.dim_product AS tgt\n",
    "USING product_stage AS src\n",
    "ON tgt.ProductKey = src.ProductKey AND tgt.IsCurrent = 1\n",
    "WHEN NOT MATCHED THEN \n",
    "  INSERT (\n",
    "    ProductKey, ProductName, Category, Brand, UnitPrice, EffectiveDate, EndDate, IsCurrent\n",
    "  )\n",
    "  VALUES (\n",
    "    src.ProductKey, src.ProductName, src.Category, src.Brand, src.UnitPrice, current_date(), DATE'9999-12-31', 1);"
   ]
  },
  {
   "cell_type": "markdown",
   "metadata": {
    "application/vnd.databricks.v1+cell": {
     "cellMetadata": {},
     "inputWidgets": {},
     "nuid": "d40c64ef-c1e9-4dc7-a8cc-40cd4b4112a8",
     "showTitle": false,
     "tableResultSettingsMap": {},
     "title": ""
    }
   },
   "source": [
    "**Customer Dimension**"
   ]
  },
  {
   "cell_type": "code",
   "execution_count": 0,
   "metadata": {
    "application/vnd.databricks.v1+cell": {
     "cellMetadata": {
      "byteLimit": 2048000,
      "implicitDf": true,
      "rowLimit": 10000
     },
     "inputWidgets": {},
     "nuid": "987c225f-7826-440c-a5cb-1f300cf03198",
     "showTitle": false,
     "tableResultSettingsMap": {},
     "title": ""
    }
   },
   "outputs": [],
   "source": [
    "%sql\n",
    "-- Step 1: Create a staging view with transformed attributes\n",
    "CREATE OR REPLACE TEMP VIEW customer_stage AS\n",
    "SELECT DISTINCT\n",
    "  customer_id AS CustomerKey,\n",
    "  CONCAT(firstname, ' ', lastname) AS FullName,\n",
    "  gender AS Gender,\n",
    "  CASE \n",
    "    WHEN FLOOR(DATEDIFF(current_date(), dob)/365) BETWEEN 18 AND 25 THEN '18-25'\n",
    "    WHEN FLOOR(DATEDIFF(current_date(), dob)/365) BETWEEN 26 AND 35 THEN '26-35'\n",
    "    WHEN FLOOR(DATEDIFF(current_date(), dob)/365) BETWEEN 36 AND 50 THEN '36-50'\n",
    "    ELSE '50+'\n",
    "  END AS AgeGroup,\n",
    "  city,\n",
    "  state\n",
    "FROM vsqproject.silver.customers_silver;"
   ]
  },
  {
   "cell_type": "code",
   "execution_count": 0,
   "metadata": {
    "application/vnd.databricks.v1+cell": {
     "cellMetadata": {},
     "inputWidgets": {},
     "nuid": "873deb09-d50d-43ff-b514-eacb03e04deb",
     "showTitle": false,
     "tableResultSettingsMap": {},
     "title": ""
    }
   },
   "outputs": [],
   "source": [
    "%sql\n",
    "--Step 2: Updating the records that have updates\n",
    "MERGE INTO vsqproject.gold.dim_customer AS tgt\n",
    "USING customer_stage AS src\n",
    "ON tgt.CustomerKey = src.CustomerKey AND tgt.IsCurrent = 1\n",
    "WHEN MATCHED AND (\n",
    "    tgt.FullName <> src.FullName OR\n",
    "    tgt.Gender   <> src.Gender OR\n",
    "    tgt.AgeGroup <> src.AgeGroup OR\n",
    "    tgt.city     <> src.city OR\n",
    "    tgt.state    <> src.state\n",
    ") THEN\n",
    "  UPDATE SET\n",
    "    tgt.IsCurrent = 0,\n",
    "    tgt.EndDate   = current_date() - INTERVAL 1 DAY;"
   ]
  },
  {
   "cell_type": "code",
   "execution_count": 0,
   "metadata": {
    "application/vnd.databricks.v1+cell": {
     "cellMetadata": {},
     "inputWidgets": {},
     "nuid": "f821c73c-6d08-4d9b-b87c-5939f8f30fbd",
     "showTitle": false,
     "tableResultSettingsMap": {},
     "title": ""
    }
   },
   "outputs": [],
   "source": [
    "%sql\n",
    "--Step 3: Inserting the new records and updated records\n",
    "MERGE INTO vsqproject.gold.dim_customer AS tgt\n",
    "USING customer_stage AS src\n",
    "ON tgt.CustomerKey = src.CustomerKey AND tgt.IsCurrent = 1\n",
    "WHEN NOT MATCHED THEN\n",
    "  INSERT (CustomerKey, FullName, Gender, AgeGroup, city, state,\n",
    "          EffectiveDate, EndDate, IsCurrent)\n",
    "  VALUES (src.CustomerKey, src.FullName, src.Gender, src.AgeGroup,\n",
    "          src.city, src.state, current_date(), DATE'9999-12-31', 1);"
   ]
  },
  {
   "cell_type": "markdown",
   "metadata": {
    "application/vnd.databricks.v1+cell": {
     "cellMetadata": {},
     "inputWidgets": {},
     "nuid": "c95ecb0a-2e9b-470e-88a4-9b2dacfaa37d",
     "showTitle": false,
     "tableResultSettingsMap": {},
     "title": ""
    }
   },
   "source": [
    "**Store Dimension**"
   ]
  },
  {
   "cell_type": "code",
   "execution_count": 0,
   "metadata": {
    "application/vnd.databricks.v1+cell": {
     "cellMetadata": {
      "byteLimit": 2048000,
      "implicitDf": true,
      "rowLimit": 10000
     },
     "inputWidgets": {},
     "nuid": "6b5719df-dea0-4876-a819-ef33f107714e",
     "showTitle": false,
     "tableResultSettingsMap": {},
     "title": ""
    }
   },
   "outputs": [],
   "source": [
    "%sql\n",
    "INSERT OVERWRITE vsqproject.gold.dim_store\n",
    "SELECT DISTINCT\n",
    "  store_id AS StoreKey,\n",
    "  store_name AS StoreName,\n",
    "  city,\n",
    "  state\n",
    "FROM vsqproject.silver.stores;"
   ]
  }
 ],
 "metadata": {
  "application/vnd.databricks.v1+notebook": {
   "computePreferences": {
    "hardware": {
     "accelerator": null,
     "gpuPoolId": null,
     "memory": null
    }
   },
   "dashboards": [],
   "environmentMetadata": {
    "base_environment": "",
    "environment_version": "2"
   },
   "inputWidgetPreferences": null,
   "language": "python",
   "notebookMetadata": {
    "mostRecentlyExecutedCommandWithImplicitDF": {
     "commandId": 5611301973202746,
     "dataframes": [
      "_sqldf"
     ]
    },
    "pythonIndentUnit": 4
   },
   "notebookName": "gold_notebook",
   "widgets": {}
  },
  "language_info": {
   "name": "python"
  }
 },
 "nbformat": 4,
 "nbformat_minor": 0
}
