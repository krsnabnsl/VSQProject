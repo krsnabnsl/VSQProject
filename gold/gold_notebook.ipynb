{
 "cells": [
  {
   "cell_type": "markdown",
   "metadata": {
    "application/vnd.databricks.v1+cell": {
     "cellMetadata": {},
     "inputWidgets": {},
     "nuid": "eb11a183-960c-4597-ac03-d2ad52b2e91f",
     "showTitle": false,
     "tableResultSettingsMap": {},
     "title": ""
    }
   },
   "source": [
    "**Sales Fact**"
   ]
  },
  {
   "cell_type": "code",
   "execution_count": 0,
   "metadata": {
    "application/vnd.databricks.v1+cell": {
     "cellMetadata": {
      "byteLimit": 2048000,
      "implicitDf": true,
      "rowLimit": 10000
     },
     "inputWidgets": {},
     "nuid": "9e2eabc6-d2ca-41ac-83de-ce51a55bec89",
     "showTitle": false,
     "tableResultSettingsMap": {},
     "title": ""
    }
   },
   "outputs": [],
   "source": [
    "%sql\n",
    "INSERT OVERWRITE vsqproject.gold.fact_sales\n",
    "SELECT\n",
    "  CAST(date_format(s.sale_date, 'yyyyMMdd') AS INT) AS DateKey,\n",
    "  s.product_id AS ProductKey,\n",
    "  s.customer_id AS CustomerKey,\n",
    "  s.store_id AS StoreKey,\n",
    "  s.quantity AS Quantity,\n",
    "  s.sale_amount AS NetSales,\n",
    "  0.0 AS DiscountAmount,\n",
    "  (s.sale_amount - (p.price * 0.7 * s.quantity)) AS Profit\n",
    "FROM vsqproject.silver.silver_sales s\n",
    "JOIN vsqproject.silver.products_silver p ON s.product_id = p.product_id;"
   ]
  },
  {
   "cell_type": "markdown",
   "metadata": {
    "application/vnd.databricks.v1+cell": {
     "cellMetadata": {},
     "inputWidgets": {},
     "nuid": "5285188f-f7ff-4cde-abbf-a8f0c626d659",
     "showTitle": false,
     "tableResultSettingsMap": {},
     "title": ""
    }
   },
   "source": [
    "**Product Dimension**"
   ]
  },
  {
   "cell_type": "code",
   "execution_count": 0,
   "metadata": {
    "application/vnd.databricks.v1+cell": {
     "cellMetadata": {
      "byteLimit": 2048000,
      "implicitDf": true,
      "rowLimit": 10000
     },
     "inputWidgets": {},
     "nuid": "897f3b8d-3fd7-45b2-a5e7-637530bc9360",
     "showTitle": false,
     "tableResultSettingsMap": {},
     "title": ""
    }
   },
   "outputs": [],
   "source": [
    "%sql\n",
    "INSERT OVERWRITE vsqproject.gold.dim_product\n",
    "SELECT DISTINCT \n",
    "  product_id AS ProductKey,\n",
    "  productname AS ProductName,\n",
    "  category AS Category,\n",
    "  brand AS Brand,\n",
    "  price AS UnitPrice\n",
    "FROM vsqproject.silver.products_silver;"
   ]
  },
  {
   "cell_type": "markdown",
   "metadata": {
    "application/vnd.databricks.v1+cell": {
     "cellMetadata": {},
     "inputWidgets": {},
     "nuid": "d40c64ef-c1e9-4dc7-a8cc-40cd4b4112a8",
     "showTitle": false,
     "tableResultSettingsMap": {},
     "title": ""
    }
   },
   "source": [
    "**Customer Dimension**"
   ]
  },
  {
   "cell_type": "code",
   "execution_count": 0,
   "metadata": {
    "application/vnd.databricks.v1+cell": {
     "cellMetadata": {
      "byteLimit": 2048000,
      "implicitDf": true,
      "rowLimit": 10000
     },
     "inputWidgets": {},
     "nuid": "987c225f-7826-440c-a5cb-1f300cf03198",
     "showTitle": false,
     "tableResultSettingsMap": {},
     "title": ""
    }
   },
   "outputs": [],
   "source": [
    "%sql\n",
    "INSERT OVERWRITE vsqproject.gold.dim_customer\n",
    "SELECT DISTINCT\n",
    "  customer_id AS CustomerKey,\n",
    "  CONCAT(firstname, ' ', lastname) AS FullName,\n",
    "  gender AS Gender,\n",
    "  CASE \n",
    "    WHEN FLOOR(DATEDIFF(current_date(), dob)/365) BETWEEN 18 AND 25 THEN '18-25'\n",
    "    WHEN FLOOR(DATEDIFF(current_date(), dob)/365) BETWEEN 26 AND 35 THEN '26-35'\n",
    "    WHEN FLOOR(DATEDIFF(current_date(), dob)/365) BETWEEN 36 AND 50 THEN '36-50'\n",
    "    ELSE '50+'\n",
    "  END AS AgeGroup,\n",
    "  city,\n",
    "  state\n",
    "FROM vsqproject.silver.customers_silver;"
   ]
  },
  {
   "cell_type": "markdown",
   "metadata": {
    "application/vnd.databricks.v1+cell": {
     "cellMetadata": {},
     "inputWidgets": {},
     "nuid": "c95ecb0a-2e9b-470e-88a4-9b2dacfaa37d",
     "showTitle": false,
     "tableResultSettingsMap": {},
     "title": ""
    }
   },
   "source": [
    "**Store Dimension**"
   ]
  },
  {
   "cell_type": "code",
   "execution_count": 0,
   "metadata": {
    "application/vnd.databricks.v1+cell": {
     "cellMetadata": {
      "byteLimit": 2048000,
      "implicitDf": true,
      "rowLimit": 10000
     },
     "inputWidgets": {},
     "nuid": "6b5719df-dea0-4876-a819-ef33f107714e",
     "showTitle": false,
     "tableResultSettingsMap": {},
     "title": ""
    }
   },
   "outputs": [],
   "source": [
    "%sql\n",
    "INSERT OVERWRITE vsqproject.gold.dim_store\n",
    "SELECT DISTINCT\n",
    "  store_id AS StoreKey,\n",
    "  store_name AS StoreName,\n",
    "  city,\n",
    "  state\n",
    "FROM vsqproject.silver.stores;"
   ]
  }
 ],
 "metadata": {
  "application/vnd.databricks.v1+notebook": {
   "computePreferences": null,
   "dashboards": [],
   "environmentMetadata": {
    "base_environment": "",
    "environment_version": "2"
   },
   "inputWidgetPreferences": null,
   "language": "python",
   "notebookMetadata": {
    "mostRecentlyExecutedCommandWithImplicitDF": {
     "commandId": 7457761259580576,
     "dataframes": [
      "_sqldf"
     ]
    },
    "pythonIndentUnit": 4
   },
   "notebookName": "gold_notebook",
   "widgets": {}
  },
  "language_info": {
   "name": "python"
  }
 },
 "nbformat": 4,
 "nbformat_minor": 0
}
