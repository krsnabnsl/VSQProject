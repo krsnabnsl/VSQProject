{
 "cells": [
  {
   "cell_type": "markdown",
   "metadata": {
    "application/vnd.databricks.v1+cell": {
     "cellMetadata": {},
     "inputWidgets": {},
     "nuid": "928f6d26-a7fc-4d0f-a94b-7d0b18c9f0ee",
     "showTitle": false,
     "tableResultSettingsMap": {},
     "title": ""
    }
   },
   "source": [
    "Bronze Tables"
   ]
  },
  {
   "cell_type": "code",
   "execution_count": 0,
   "metadata": {
    "application/vnd.databricks.v1+cell": {
     "cellMetadata": {
      "byteLimit": 2048000,
      "implicitDf": true,
      "rowLimit": 10000
     },
     "inputWidgets": {},
     "nuid": "5ed38556-5e43-4d27-9656-3bc29f35b20e",
     "showTitle": false,
     "tableResultSettingsMap": {},
     "title": ""
    }
   },
   "outputs": [],
   "source": [
    "%sql\n",
    "CREATE TABLE IF NOT EXISTS vsqproject.bronze.raw_products (\n",
    "  product_id STRING,\n",
    "  category STRING,\n",
    "  productname STRING,\n",
    "  brand STRING,\n",
    "  price STRING)\n",
    "USING delta\n",
    "LOCATION 'abfss://bronze@vsqstorage.dfs.core.windows.net/raw_products';\n",
    "\n",
    "\n",
    "CREATE TABLE IF NOT EXISTS vsqproject.bronze.raw_sales (\n",
    "    sale_id STRING,\n",
    "    store_id STRING,\n",
    "    product_id STRING,\n",
    "    customer_id STRING,\n",
    "    transactiondatetime STRING,\n",
    "    quantity STRING,\n",
    "    price STRING\n",
    ")\n",
    "USING DELTA\n",
    "LOCATION 'abfss://bronze@vsqstorage.dfs.core.windows.net/raw_sales/';\n",
    "\n",
    "CREATE TABLE IF NOT EXISTS vsqproject.bronze.raw_customers (\n",
    "    customerid   STRING,\n",
    "    firstname    STRING,\n",
    "    lastname     STRING,\n",
    "    gender       STRING,\n",
    "    dob          STRING,\n",
    "    city         STRING,\n",
    "    state        STRING\n",
    ")\n",
    "USING DELTA\n",
    "LOCATION 'abfss://bronze@vsqstorage.dfs.core.windows.net/raw_customers/';\n",
    "\n",
    "CREATE TABLE IF NOT EXISTS vsqproject.bronze.stores (\n",
    "    store_id    STRING,\n",
    "    store_name  STRING,\n",
    "    city        STRING,\n",
    "    state       STRING\n",
    ")\n",
    "USING DELTA\n",
    "LOCATION 'abfss://bronze@vsqstorage.dfs.core.windows.net/stores/';"
   ]
  },
  {
   "cell_type": "markdown",
   "metadata": {
    "application/vnd.databricks.v1+cell": {
     "cellMetadata": {},
     "inputWidgets": {},
     "nuid": "cb441169-e591-44d2-a486-48d0eb4d526e",
     "showTitle": false,
     "tableResultSettingsMap": {},
     "title": ""
    }
   },
   "source": [
    "Silver Tables"
   ]
  },
  {
   "cell_type": "code",
   "execution_count": 0,
   "metadata": {
    "application/vnd.databricks.v1+cell": {
     "cellMetadata": {
      "byteLimit": 2048000,
      "implicitDf": true,
      "rowLimit": 10000
     },
     "inputWidgets": {},
     "nuid": "14faccbf-713b-42f1-9f54-48405d321450",
     "showTitle": false,
     "tableResultSettingsMap": {},
     "title": ""
    }
   },
   "outputs": [],
   "source": [
    "%sql\n",
    "CREATE TABLE IF NOT EXISTS vsqproject.silver.products_silver (\n",
    "  product_id STRING,\n",
    "  productname STRING,\n",
    "  category STRING,\n",
    "  brand STRING,\n",
    "  price DOUBLE)\n",
    "USING delta\n",
    "PARTITIONED BY (category)\n",
    "LOCATION 'abfss://silver@vsqstorage.dfs.core.windows.net/products_silver';\n",
    "\n",
    "CREATE TABLE vsqproject.silver.customers_silver (\n",
    "  customer_id STRING,\n",
    "  firstname STRING,\n",
    "  lastname STRING,\n",
    "  gender STRING,\n",
    "  dob DATE,\n",
    "  city STRING,\n",
    "  state STRING)\n",
    "USING delta\n",
    "LOCATION 'abfss://silver@vsqstorage.dfs.core.windows.net/customers_silver';\n",
    "\n",
    "CREATE TABLE vsqproject.silver.stores (\n",
    "  store_id STRING,\n",
    "  store_name STRING,\n",
    "  city STRING,\n",
    "  state STRING)\n",
    "USING delta\n",
    "LOCATION 'abfss://silver@vsqstorage.dfs.core.windows.net/stores';\n",
    "\n",
    "CREATE TABLE vsqproject.silver.silver_sales (\n",
    "  store_id STRING,\n",
    "  customer_id STRING,\n",
    "  sale_id STRING,\n",
    "  product_id STRING,\n",
    "  transactiondatetime TIMESTAMP,\n",
    "  quantity INT,\n",
    "  price DOUBLE,\n",
    "  sale_date DATE,\n",
    "  sale_amount DOUBLE)\n",
    "USING delta\n",
    "PARTITIONED BY (sale_date)\n",
    "LOCATION 'abfss://silver@vsqstorage.dfs.core.windows.net/silver_sales';"
   ]
  },
  {
   "cell_type": "markdown",
   "metadata": {
    "application/vnd.databricks.v1+cell": {
     "cellMetadata": {},
     "inputWidgets": {},
     "nuid": "592a4164-864a-40de-8b5b-88d0bcaef783",
     "showTitle": false,
     "tableResultSettingsMap": {},
     "title": ""
    }
   },
   "source": [
    "Gold Tables"
   ]
  },
  {
   "cell_type": "code",
   "execution_count": 0,
   "metadata": {
    "application/vnd.databricks.v1+cell": {
     "cellMetadata": {
      "byteLimit": 2048000,
      "implicitDf": true,
      "rowLimit": 10000
     },
     "inputWidgets": {},
     "nuid": "87477fa7-e166-48bb-a880-b03345efba8d",
     "showTitle": false,
     "tableResultSettingsMap": {},
     "title": ""
    }
   },
   "outputs": [],
   "source": [
    "%sql\n",
    "CREATE TABLE IF NOT EXISTS vsqproject.gold.fact_sales (\n",
    "  DateKey INT,\n",
    "  ProductKey STRING,\n",
    "  CustomerKey STRING,\n",
    "  StoreKey STRING,\n",
    "  Quantity INT,\n",
    "  NetSales DOUBLE,\n",
    "  DiscountAmount DOUBLE,\n",
    "  Profit DOUBLE\n",
    ")\n",
    "USING delta\n",
    "PARTITIONED BY (DateKey)\n",
    "LOCATION 'abfss://gold@vsqstorage.dfs.core.windows.net/fact_sales';\n",
    "\n",
    "CREATE TABLE IF NOT EXISTS vsqproject.gold.dim_date (\n",
    "  DateKey INT,\n",
    "  Date DATE,\n",
    "  Day INT,\n",
    "  Month INT,\n",
    "  Quarter INT,\n",
    "  Year INT,\n",
    "  DayOfWeek STRING,\n",
    "  IsWeekend BOOLEAN\n",
    ")\n",
    "USING delta\n",
    "LOCATION 'abfss://gold@vsqstorage.dfs.core.windows.net/dim_date';\n",
    "\n",
    "CREATE TABLE IF NOT EXISTS vsqproject.gold.dim_store (\n",
    "  StoreKey STRING,\n",
    "  StoreName STRING,\n",
    "  City STRING,\n",
    "  State STRING\n",
    ")\n",
    "USING delta\n",
    "LOCATION 'abfss://gold@vsqstorage.dfs.core.windows.net/dim_store';\n",
    "\n",
    "CREATE TABLE IF NOT EXISTS vsqproject.gold.dim_customer (\n",
    "  CustomerKey STRING,\n",
    "  FullName STRING,\n",
    "  Gender STRING,\n",
    "  AgeGroup STRING,\n",
    "  City STRING,\n",
    "  State STRING\n",
    ")\n",
    "USING delta\n",
    "LOCATION 'abfss://gold@vsqstorage.dfs.core.windows.net/dim_customer';\n",
    "\n",
    "CREATE TABLE IF NOT EXISTS vsqproject.gold.dim_product (\n",
    "  ProductKey STRING,         -- surrogate key = product_id\n",
    "  ProductName STRING,\n",
    "  Category STRING,\n",
    "  Brand STRING,\n",
    "  UnitPrice DOUBLE\n",
    ")\n",
    "USING delta\n",
    "LOCATION 'abfss://gold@vsqstorage.dfs.core.windows.net/dim_product';"
   ]
  }
 ],
 "metadata": {
  "application/vnd.databricks.v1+notebook": {
   "computePreferences": {
    "hardware": {
     "accelerator": null,
     "gpuPoolId": null,
     "memory": null
    }
   },
   "dashboards": [],
   "environmentMetadata": {
    "base_environment": "",
    "environment_version": "2"
   },
   "inputWidgetPreferences": null,
   "language": "python",
   "notebookMetadata": {
    "mostRecentlyExecutedCommandWithImplicitDF": {
     "commandId": 7457761259580572,
     "dataframes": [
      "_sqldf"
     ]
    },
    "pythonIndentUnit": 4
   },
   "notebookName": "DDL's",
   "widgets": {}
  },
  "language_info": {
   "name": "python"
  }
 },
 "nbformat": 4,
 "nbformat_minor": 0
}
